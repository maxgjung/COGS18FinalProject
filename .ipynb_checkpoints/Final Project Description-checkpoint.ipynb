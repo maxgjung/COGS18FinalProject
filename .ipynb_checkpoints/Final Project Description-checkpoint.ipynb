{
 "cells": [
  {
   "cell_type": "markdown",
   "metadata": {},
   "source": [
    "# COGS 18 Final project - Web Scraper\n",
    "\n",
    "## Maxwell Jung"
   ]
  },
  {
   "cell_type": "markdown",
   "metadata": {},
   "source": [
    "## __Description__\n",
    "For my final project, I set out to make a web scraper that takes different user preferences and can find applicable clothing options from a particular store, in this case Nike. \n",
    "## <font color=Blue>__Structure__</font>\n",
    "### <font color=Red>__Scaper.py:__</font>\n",
    "This is where I create the __ClothingItem__ class, which stores the name, description,price, and link to its image, as well as a method that prints all of this information.\n",
    "\n",
    "This is also where I create the __SearchObj__ class, which initializes an instance of *chromedriver* for the user's particular operating system, then has two methods for the majority of webscraping, __find_items__, and __search__:\n",
    "#### <font color=Blue>__find_items:__</font>\n",
    "This method takes the input of an html document converted to a string, as well as a list of images both supplied from the search method.\n",
    "Then, using normal text parsing as well as knowledge of how Nike sets up their website, creates and returns a list of the Clothing Items for each particular search.\n",
    "#### <font color=Blue>__search:__</font>\n",
    "This method takes the input of the string you are searching for, as well as a string denoting which company you want to search for, which will always be Nike for the purposes of this project. In the method, it uses _Beautiful Soup_ to parse the link created with simple string concatenation for a particular search of Nike's website, and stores the html to a string. Then it uses _Selenium_ along with _chromedriver_ to retreive all of the images from the site, and passes this on to the __find_items__ method.\n",
    "### <font color=Red>__UserData.py:__</font>\n",
    "This is where I create the __User__ class, which stores the preferences of each user in a series of dictionaries and arrays, giving a place to store preferences for item types (shirts/shorts/socks), item colors, and prices, as well as a set of preferences per each type of item.\n",
    "\n",
    "The __User__ class has methods __add_pref__, __get_pref__, __get_recom_items__, and __get_recom_perItem__:\n",
    "#### <font color=Blue>__add_pref__</font>\n",
    "This method adds or updates the user's preferences, taking inputs of the preference itself, (*ie: blue*), as well as the preference type (*ie: color*), and an optional input of the item type, so that a preference could be added to only a specific type of item.\n",
    "#### <font color=Blue>__get_pref__</font>\n",
    "This method prints out whatever is held for a specific preference in the user's data.\n",
    "#### <font color=Blue>__get_recom_items__</font>\n",
    "This method loops through the user's generic (*non-item specific*) preferences and generates different search keywords to be run through the search method in __Scraper.py__ to print out the info from each item as well as display their image.\n",
    "#### <font color=Blue>__get_recom_perItem__</font>\n",
    "This method loops through the user's per-item specific preferences and generates different search keywords to be run through the search method in __Scraper.py__ to print out the info from each item as well as display their image.\n",
    "### <font color=Red>__Tests.py__</font>\n",
    "This holds the tests to be run for project evaluation, and can be run via the following code cell:"
   ]
  },
  {
   "cell_type": "code",
   "execution_count": null,
   "metadata": {},
   "outputs": [
    {
     "name": "stdout",
     "output_type": "stream",
     "text": [
      "Tests for get_pref:\n",
      "\n",
      "Color Preferences:\n",
      "{'blue': 1, 'red': 1}\n",
      "\n",
      "Item Preferences:\n",
      "{'shirt': 1, 'shorts': 1}\n",
      "\n",
      "Shirt Color Preferences\n",
      "{'green': 1, 'orange': 1}\n",
      "\n",
      "Shoe Color Preferences\n",
      "{'red': 1, 'purple': 1}\n",
      "\n",
      "\n",
      "Tests for get_recom_items\n",
      "\n",
      "Nike Sportswear New York Big Kids' T-Shirt $25 https://static.nike.com/a/images/c_limit,w_318,f_auto/t_product_v1/9d33e205-6dcf-4b37-a485-20c3e76d714c/sportswear-new-york-big-kids-t-shirt-q37LLW.jpg\n",
      "Hurley Vedder Washed Boys' Long-Sleeve Shirt $50 https://static.nike.com/a/images/c_limit,w_318,f_auto/t_product_v1/xajjhc3xfbqy7gfv5oo4/hurley-vedder-washed-boys-long-sleeve-shirt-j4Dff6.jpg\n",
      "Nike Flex Men's Training Shorts $40 https://static.nike.com/a/images/c_limit,w_318,f_auto/t_product_v1/gzyznmjcgnamgphxwypz/flex-mens-training-shorts-3jGZS9.jpg\n",
      "Nike Flex Stride Men's 7\" 2-In-1 Running Shorts $55 https://static.nike.com/a/images/c_limit,w_318,f_auto/t_product_v1/i1-02c3bc7b-1119-49bb-a243-d51619c11119/flex-stride-mens-7-2-in-1-running-shorts-pnwp4c.jpg\n",
      "\n",
      "\n",
      "Tests for get_recom_perItem\n",
      "\n",
      "Shirts:\n",
      "Nike Sportswear Club Crew $40 https://static.nike.com/a/images/c_limit,w_318,f_auto/t_product_v1/82850d29-1e5a-4662-a565-da465344b4ac/sportswear-club-crew-TWcqLw.jpg\n",
      "Nike Sportswear JDI Heavyweight Fleece Crew $95 https://static.nike.com/a/images/c_limit,w_318,f_auto/t_product_v1/6c97ea7b-4dc4-42e5-b921-1f1953acadc3/sportswear-jdi-heavyweight-fleece-crew-62VKzP.jpg\n",
      "Nike College Dri-FIT (Texas) Men's T-Shirt $30 https://static.nike.com/a/images/c_limit,w_318,f_auto/t_product_v1/i1-75240201-f41d-45a1-a85a-b474266d3aaf/dri-fit-texas-mens-t-shirt-Hs6j3g.jpg\n",
      "Nike Sportswear Men's Tank $25 https://static.nike.com/a/images/c_limit,w_318,f_auto/t_product_v1/i1-4df192fa-dc27-40a4-b4a7-6298945f0a63/sportswear-mens-tank-43MPq2.jpg\n",
      "\n",
      "Shoes:\n",
      "Nike Air Zoom Pegasus 36 Icon Clash Women's Running Shoe $125 https://static.nike.com/a/images/c_limit,w_318,f_auto/t_product_v1/bzvbvfgibxrgtie8tvsm/air-zoom-pegasus-36-icon-clash-womens-running-shoe-ZZbbrN.jpg\n",
      "Nike Air Max 1 Icon Clash Women's Shoe $120 https://static.nike.com/a/images/c_limit,w_318,f_auto/t_product_v1/k66xeb0imqa1gy6qc6rc/air-max-1-icon-clash-womens-shoe-XWcQDB.jpg\n",
      "Nike Free X Metcon 2  Women's Training Shoe  $120 https://static.nike.com/a/images/c_limit,w_318,f_auto/t_product_v1/aipqkvzdhawdgmjptruq/free-x-metcon-2-womens-training-shoe-2DQmS4.jpg\n",
      "Nike Metcon 5 Women's Training Shoe $130 https://static.nike.com/a/images/c_limit,w_318,f_auto/t_product_v1/15957ad4-73f8-4d56-996c-03bfe9a1a480/metcon-5-womens-training-shoe-2xvQ6H.jpg\n"
     ]
    }
   ],
   "source": [
    "%run -i Tests.py"
   ]
  },
  {
   "cell_type": "markdown",
   "metadata": {},
   "source": [
    " "
   ]
  }
 ],
 "metadata": {
  "kernelspec": {
   "display_name": "Python 3",
   "language": "python",
   "name": "python3"
  },
  "language_info": {
   "codemirror_mode": {
    "name": "ipython",
    "version": 3
   },
   "file_extension": ".py",
   "mimetype": "text/x-python",
   "name": "python",
   "nbconvert_exporter": "python",
   "pygments_lexer": "ipython3",
   "version": "3.7.7"
  }
 },
 "nbformat": 4,
 "nbformat_minor": 4
}
